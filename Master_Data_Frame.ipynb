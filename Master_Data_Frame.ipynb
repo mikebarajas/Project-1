{
 "cells": [
  {
   "cell_type": "code",
   "execution_count": 53,
   "metadata": {
    "collapsed": true
   },
   "outputs": [],
   "source": [
    "# Dependencies\n",
    "import matplotlib.pyplot as plt\n",
    "import numpy as np\n",
    "import pandas as pd\n",
    "import os\n",
    "import locale\n",
    "from locale import atof"
   ]
  },
  {
   "cell_type": "code",
   "execution_count": 54,
   "metadata": {
    "collapsed": true
   },
   "outputs": [],
   "source": [
    "# Load in csv\n",
    "filepath = os.path.join(\"CSV Files\\\\TWFC CSV\\\\Employment.csv\")\n",
    "employment_numbers_df = pd.read_csv(filepath)\n",
    "filepath = os.path.join(\"CSV Files\\\\TWFC CSV\\\\Un_numbers.csv\")\n",
    "unemployment_numbers_df = pd.read_csv(filepath)\n",
    "filepath = os.path.join(\"CSV Files\\\\TWFC CSV\\\\Un_rate.csv\")\n",
    "unemployment_rate_df = pd.read_csv(filepath)\n",
    "filepath = os.path.join(\"CSV Files\\TWFC CSV\\\\Laborforce.csv\")\n",
    "laborforce_df = pd.read_csv(filepath)\n",
    "filepath = os.path.join(\"CSV Files\\\\TWFC CSV\\\\Income.csv\")\n",
    "income_df = pd.read_csv(filepath)\n",
    "filepath = os.path.join(\"CSV Files\\\\TWFC CSV\\\\Population.csv\")\n",
    "population_df = pd.read_csv(filepath)\n",
    "filepath = os.path.join(\"CSV Files\\\\Zillow CSV\\\\Price.csv\")\n",
    "price_df = pd.read_csv(filepath)\n",
    "filepath = os.path.join(\"CSV Files\\\\Zillow CSV\\\\Rent.csv\")\n",
    "rent_df = pd.read_csv(filepath)"
   ]
  },
  {
   "cell_type": "code",
   "execution_count": 55,
   "metadata": {
    "collapsed": true
   },
   "outputs": [],
   "source": [
    "# Merge the monthly CSVs\n",
    "merge_df = pd.merge(employment_numbers_df, unemployment_numbers_df, how=\"outer\", on=[\"Year\", \"Period ID\", \"Period\", \"Area\"])\n",
    "merge_df2 = pd.merge(merge_df, unemployment_rate_df, how=\"outer\", on=[\"Year\", \"Period ID\", \"Period\", \"Area\"])\n",
    "merge_df3 = pd.merge(merge_df2, laborforce_df, how=\"outer\", on=[\"Year\", \"Period ID\", \"Period\", \"Area\"])"
   ]
  },
  {
   "cell_type": "code",
   "execution_count": 56,
   "metadata": {
    "collapsed": true
   },
   "outputs": [],
   "source": [
    "# Select desired columns \n",
    "merge_df = merge_df3.drop(merge_df3.columns[[2,4,6,8,10]], axis=1)\n",
    "\n",
    "# Change column name of Area to City\n",
    "merge_df=merge_df.rename(columns = {'Area':'City', 'Period ID': 'Month'})\n",
    "\n",
    "# Slice out MSA out of the City Names\n",
    "merge_df[\"City\"] = merge_df[\"City\"].replace(' MSA','',regex=True)\n",
    "merge_df = merge_df\n",
    "\n",
    "# Convert Strings to Floats\n",
    "merge_df[\"Employment\"] = merge_df[\"Employment\"].replace(',','',regex=True).astype('float')\n",
    "merge_df[\"Unemployment\"] = merge_df[\"Unemployment\"].replace(',','',regex=True).astype('float')\n",
    "merge_df[\"Labor Force\"] = merge_df[\"Labor Force\"].replace(',','',regex=True).astype('float')\n",
    "\n",
    "#Clean up city names\n",
    "merge_df['City'], merge_df['x'] = merge_df[\"City\"].str.split('-', 2).str[0:2].str\n",
    "merge_df = merge_df.drop(merge_df.columns[[-1]], axis=1)"
   ]
  },
  {
   "cell_type": "code",
   "execution_count": 57,
   "metadata": {
    "collapsed": true
   },
   "outputs": [],
   "source": [
    "# Convert Region Name into Seperate City and State Columns\n",
    "rent_df['City'],rent_df['State'] = rent_df[\"RegionName\"].str.split(',', 2).str[0:2].str\n",
    "rent_df['State'].replace(' TX','TX', inplace=True)\n",
    "price_df['City'],price_df['State'] = price_df[\"RegionName\"].str.split(',', 2).str[0:2].str\n",
    "price_df['State'].replace(' TX','TX', inplace=True)\n",
    "\n",
    "# Extract only the Texas Data\n",
    "rent_tx_df = rent_df.loc[rent_df[\"State\"] == \"TX\", :]\n",
    "rent_tx_df = rent_tx_df.set_index('City')\n",
    "price_tx_df = price_df.loc[price_df[\"State\"] == \"TX\", :]\n",
    "price_tx_df = price_tx_df.set_index('City')\n",
    "\n",
    "# Remove Undesired Columns\n",
    "rent_tx_df = rent_tx_df.drop(rent_tx_df.columns[[0,1,2,-1]], axis=1)\n",
    "price_tx_df = price_tx_df.drop(price_tx_df.columns[[0,1,-1]], axis=1)\n",
    "\n",
    "# Transpose Data Frame\n",
    "rent = rent_tx_df.transpose()\n",
    "price = price_tx_df.transpose()\n",
    "\n",
    "#Move the Index\n",
    "rent.reset_index(level=0, inplace=True)\n",
    "rent = rent.rename(columns = {'index':'Date'})\n",
    "rent = rent.reset_index(drop=True)\n",
    "price.reset_index(level=0, inplace=True)\n",
    "price = price.rename(columns = {'index':'Date'})\n",
    "price = price.reset_index(drop=True)\n",
    "\n",
    "# Convert the Date into a Month and Year Column\n",
    "rent['Year'],rent['Month'] = rent[\"Date\"].str.split('-', 2).str[0:2].str\n",
    "rent = rent.drop(rent.columns[[0]], axis=1)\n",
    "price['Year'],price['Month'] = price[\"Date\"].str.split('-', 2).str[0:2].str\n",
    "price = price.drop(price.columns[[0]], axis=1)\n",
    "\n",
    "# Melt Data Frames and Restructure and Merge\n",
    "rent_melt = pd.melt(rent, id_vars=[\"Year\", \"Month\"])\n",
    "rent_melt = rent_melt.rename(columns={'value': 'Rent'})\n",
    "rent_melt = rent_melt.replace('Dallas-Fort Worth', 'Dallas')\n",
    "price_melt = pd.melt(price, id_vars=[\"Year\", \"Month\"])\n",
    "price_melt = price_melt.rename(columns={'value': 'House Price'})\n",
    "merge_melts = pd.merge(rent_melt,price_melt, how='left', on=['Year','Month','City'])"
   ]
  },
  {
   "cell_type": "code",
   "execution_count": 58,
   "metadata": {},
   "outputs": [],
   "source": [
    "# Merge TWFC Data with Zillow Data\n",
    "monthly_merge = pd.merge(merge_df, merge_melts, how=\"outer\", on=[\"Year\", \"Month\", \"City\"])"
   ]
  },
  {
   "cell_type": "code",
   "execution_count": 59,
   "metadata": {},
   "outputs": [
    {
     "data": {
      "text/plain": [
       "array(['Abilene', 'Amarillo', 'Austin', 'Beaumont', 'Brownsville',\n",
       "       'College Station', 'Corpus Christi', 'Dallas', 'El Paso', 'Houston',\n",
       "       'Killeen', 'Laredo', 'Longview', 'Lubbock', 'McAllen', 'Midland',\n",
       "       'Odessa', 'San Angelo', 'San Antonio', 'Sherman', 'Texarkana',\n",
       "       'Tyler', 'Victoria', 'Waco', 'Wichita Falls', 'Huntsville',\n",
       "       'Marshall', 'Palestine', 'Eagle Pass', 'Jacksonville', 'Kerrville',\n",
       "       'Del Rio', 'Corsicana', 'El Campo', 'Alice', 'Gainesville',\n",
       "       'Brownwood', 'Stephenville', 'Plainview', 'Big Spring',\n",
       "       'Sulphur Springs', 'Brenham', 'Kingsville', 'Fredericksburg',\n",
       "       'Pampa', 'Dumas', 'Snyder', 'Sweetwater', 'Andrews', 'Pecos',\n",
       "       'Vernon'], dtype=object)"
      ]
     },
     "execution_count": 59,
     "metadata": {},
     "output_type": "execute_result"
    }
   ],
   "source": [
    "# Clean up Income data to merge to annual data frame\n",
    "# Select desired columns \n",
    "income_df = income_df.drop(income_df.columns[[1,3,4]], axis=1)\n",
    "\n",
    "# Change column name of Area to City\n",
    "income_df = income_df.rename(columns = {'Area':'City'})\n",
    "\n",
    "# Slice out MSA out of the City Names\n",
    "income_df[\"City\"] = income_df[\"City\"].replace(' MSA','',regex=True)\n",
    "\n",
    "#Clean up city names\n",
    "income_df['City'], income_df['x'] = income_df[\"City\"].str.split('-', 2).str[0:2].str\n",
    "income_df = income_df.drop(income_df.columns[[-1]], axis=1)\n",
    "\n",
    "# Convert Strings to Floats\n",
    "income_df[\"Income\"] = income_df[\"Income\"].replace(',','',regex=True)\n",
    "\n",
    "income = []\n",
    "for x in income_df[\"Income\"]:\n",
    "    x = x[1:]\n",
    "    x = int(x)\n",
    "    income.append(x)\n",
    "\n",
    "income_df[\"Income\"] = income\n",
    "\n",
    "# Merge Income Data Frame to the Main Data Frame\n",
    "df_final = pd.merge(monthly_merge, income_df, how=\"outer\", on=[\"City\", \"Year\"])\n",
    "df_final['City'].unique()"
   ]
  },
  {
   "cell_type": "code",
   "execution_count": 60,
   "metadata": {},
   "outputs": [],
   "source": [
    "df_final = df_final.groupby(['City', 'Year']).mean()\n",
    "df_final = df_final.drop(df_final.columns[[0]], axis=1)"
   ]
  }
 ],
 "metadata": {
  "kernelspec": {
   "display_name": "Python 3",
   "language": "python",
   "name": "python3"
  },
  "language_info": {
   "codemirror_mode": {
    "name": "ipython",
    "version": 3
   },
   "file_extension": ".py",
   "mimetype": "text/x-python",
   "name": "python",
   "nbconvert_exporter": "python",
   "pygments_lexer": "ipython3",
   "version": "3.6.1"
  }
 },
 "nbformat": 4,
 "nbformat_minor": 2
}
