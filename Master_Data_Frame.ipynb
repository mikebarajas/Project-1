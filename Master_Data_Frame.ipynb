{
 "cells": [
  {
   "cell_type": "code",
   "execution_count": 174,
   "metadata": {},
   "outputs": [],
   "source": [
    "# Dependencies\n",
    "import matplotlib.pyplot as plt\n",
    "import numpy as np\n",
    "import pandas as pd\n",
    "import os\n",
    "import locale\n",
    "from locale import atof\n",
    "from scipy import stats"
   ]
  },
  {
   "cell_type": "code",
   "execution_count": 175,
   "metadata": {
    "collapsed": true
   },
   "outputs": [],
   "source": [
    "# Load in csv\n",
    "filepath = os.path.join(\"CSV Files\\\\TWFC CSV\\\\Employment.csv\")\n",
    "employment_numbers_df = pd.read_csv(filepath)\n",
    "filepath = os.path.join(\"CSV Files\\\\TWFC CSV\\\\Un_numbers.csv\")\n",
    "unemployment_numbers_df = pd.read_csv(filepath)\n",
    "filepath = os.path.join(\"CSV Files\\\\TWFC CSV\\\\Un_rate.csv\")\n",
    "unemployment_rate_df = pd.read_csv(filepath)\n",
    "filepath = os.path.join(\"CSV Files\\TWFC CSV\\\\Laborforce.csv\")\n",
    "laborforce_df = pd.read_csv(filepath)\n",
    "filepath = os.path.join(\"CSV Files\\\\TWFC CSV\\\\Income.csv\")\n",
    "income_df = pd.read_csv(filepath)\n",
    "filepath = os.path.join(\"CSV Files\\\\TWFC CSV\\\\Population.csv\")\n",
    "population_df = pd.read_csv(filepath)\n",
    "filepath = os.path.join(\"CSV Files\\\\Zillow CSV\\\\Price.csv\")\n",
    "price_df = pd.read_csv(filepath)\n",
    "filepath = os.path.join(\"CSV Files\\\\Zillow CSV\\\\Rent.csv\")\n",
    "rent_df = pd.read_csv(filepath)"
   ]
  },
  {
   "cell_type": "markdown",
   "metadata": {},
   "source": [
    "Texas Workforce Commission Clean Up"
   ]
  },
  {
   "cell_type": "code",
   "execution_count": 176,
   "metadata": {
    "collapsed": true
   },
   "outputs": [],
   "source": [
    "# Merge the monthly CSVs\n",
    "merge_df = pd.merge(employment_numbers_df, unemployment_numbers_df, how=\"outer\", on=[\"Year\", \"Period ID\", \"Period\", \"Area\"])\n",
    "merge_df2 = pd.merge(merge_df, unemployment_rate_df, how=\"outer\", on=[\"Year\", \"Period ID\", \"Period\", \"Area\"])\n",
    "merge_df3 = pd.merge(merge_df2, laborforce_df, how=\"outer\", on=[\"Year\", \"Period ID\", \"Period\", \"Area\"])"
   ]
  },
  {
   "cell_type": "code",
   "execution_count": 177,
   "metadata": {
    "collapsed": true
   },
   "outputs": [],
   "source": [
    "# Select desired columns \n",
    "merge_df = merge_df3.drop(merge_df3.columns[[2,4,6,8,10]], axis=1)\n",
    "\n",
    "# Change column name of Area to City\n",
    "merge_df=merge_df.rename(columns = {'Area':'City', 'Period ID': 'Month'})\n",
    "\n",
    "# Slice out MSA out of the City Names\n",
    "merge_df[\"City\"] = merge_df[\"City\"].replace(' MSA','',regex=True)\n",
    "merge_df = merge_df\n",
    "\n",
    "# Convert Strings to Floats\n",
    "merge_df[\"Employment\"] = merge_df[\"Employment\"].replace(',','',regex=True).astype('float')\n",
    "merge_df[\"Unemployment\"] = merge_df[\"Unemployment\"].replace(',','',regex=True).astype('float')\n",
    "merge_df[\"Labor Force\"] = merge_df[\"Labor Force\"].replace(',','',regex=True).astype('float')\n",
    "\n",
    "#Clean up city names\n",
    "merge_df['City'], merge_df['x'] = merge_df[\"City\"].str.split('-', 2).str[0:2].str\n",
    "merge_df = merge_df.drop(merge_df.columns[[-1]], axis=1)"
   ]
  },
  {
   "cell_type": "markdown",
   "metadata": {},
   "source": [
    "Zillow Data Clean Up"
   ]
  },
  {
   "cell_type": "code",
   "execution_count": 178,
   "metadata": {
    "collapsed": true
   },
   "outputs": [],
   "source": [
    "# Convert Region Name into Seperate City and State Columns\n",
    "rent_df['City'],rent_df['State'] = rent_df[\"RegionName\"].str.split(',', 2).str[0:2].str\n",
    "rent_df['State'].replace(' TX','TX', inplace=True)\n",
    "price_df['City'],price_df['State'] = price_df[\"RegionName\"].str.split(',', 2).str[0:2].str\n",
    "price_df['State'].replace(' TX','TX', inplace=True)\n",
    "\n",
    "# Extract only the Texas Data\n",
    "rent_tx_df = rent_df.loc[rent_df[\"State\"] == \"TX\", :]\n",
    "rent_tx_df = rent_tx_df.set_index('City')\n",
    "price_tx_df = price_df.loc[price_df[\"State\"] == \"TX\", :]\n",
    "price_tx_df = price_tx_df.set_index('City')\n",
    "\n",
    "# Remove Undesired Columns\n",
    "rent_tx_df = rent_tx_df.drop(rent_tx_df.columns[[0,1,2,-1]], axis=1)\n",
    "price_tx_df = price_tx_df.drop(price_tx_df.columns[[0,1,-1]], axis=1)\n",
    "\n",
    "# Transpose Data Frame\n",
    "rent = rent_tx_df.transpose()\n",
    "price = price_tx_df.transpose()\n",
    "\n",
    "#Move the Index\n",
    "rent.reset_index(level=0, inplace=True)\n",
    "rent = rent.rename(columns = {'index':'Date'})\n",
    "rent = rent.reset_index(drop=True)\n",
    "price.reset_index(level=0, inplace=True)\n",
    "price = price.rename(columns = {'index':'Date'})\n",
    "price = price.reset_index(drop=True)\n",
    "\n",
    "# Convert the Date into a Month and Year Column\n",
    "rent['Year'],rent['Month'] = rent[\"Date\"].str.split('-', 2).str[0:2].str\n",
    "rent = rent.drop(rent.columns[[0]], axis=1)\n",
    "price['Year'],price['Month'] = price[\"Date\"].str.split('-', 2).str[0:2].str\n",
    "price = price.drop(price.columns[[0]], axis=1)\n",
    "\n",
    "# Melt Data Frames and Restructure and Merge\n",
    "rent_melt = pd.melt(rent, id_vars=[\"Year\", \"Month\"])\n",
    "rent_melt = rent_melt.rename(columns={'value': 'Rent'})\n",
    "rent_melt = rent_melt.replace('Dallas-Fort Worth', 'Dallas')\n",
    "price_melt = pd.melt(price, id_vars=[\"Year\", \"Month\"])\n",
    "price_melt = price_melt.rename(columns={'value': 'House Price'})\n",
    "merge_melts = pd.merge(rent_melt,price_melt, how='left', on=['Year','Month','City'])"
   ]
  },
  {
   "cell_type": "code",
   "execution_count": 179,
   "metadata": {},
   "outputs": [],
   "source": [
    "# Merge TWFC Data with Zillow Data\n",
    "monthly_merge = pd.merge(merge_df, merge_melts, how=\"outer\", on=[\"Year\", \"Month\", \"City\"])"
   ]
  },
  {
   "cell_type": "code",
   "execution_count": 180,
   "metadata": {},
   "outputs": [],
   "source": [
    "# Clean up Income data to merge to annual data frame\n",
    "# Select desired columns \n",
    "income_df = income_df.drop(income_df.columns[[1,3,4]], axis=1)\n",
    "\n",
    "# Change column name of Area to City\n",
    "income_df = income_df.rename(columns = {'Area':'City'})\n",
    "\n",
    "# Slice out MSA out of the City Names\n",
    "income_df[\"City\"] = income_df[\"City\"].replace(' MSA','',regex=True)\n",
    "\n",
    "#Clean up city names\n",
    "income_df['City'], income_df['x'] = income_df[\"City\"].str.split('-', 2).str[0:2].str\n",
    "income_df = income_df.drop(income_df.columns[[-1]], axis=1)\n",
    "\n",
    "# Convert Strings to Floats\n",
    "income_df[\"Income\"] = income_df[\"Income\"].replace(',','',regex=True)\n",
    "\n",
    "income = []\n",
    "for x in income_df[\"Income\"]:\n",
    "    x = x[1:]\n",
    "    x = int(x)\n",
    "    income.append(x)\n",
    "\n",
    "income_df[\"Income\"] = income\n",
    "\n",
    "# Merge Income Data Frame to the Main Data Frame\n",
    "df_final = pd.merge(monthly_merge, income_df, how=\"outer\", on=[\"City\", \"Year\"])"
   ]
  },
  {
   "cell_type": "code",
   "execution_count": 181,
   "metadata": {},
   "outputs": [],
   "source": [
    "df_final = df_final.groupby(['Year','City']).mean()\n",
    "df_final.to_csv('Master Dataframe.csv',index=True)"
   ]
  },
  {
   "cell_type": "code",
   "execution_count": 182,
   "metadata": {},
   "outputs": [],
   "source": [
    "Y2010 =df_final.loc[2010]\n",
    "Y2010 = Y2010.dropna()\n",
    "Y2011 =df_final.loc[2011]\n",
    "Y2011 = Y2011.dropna()\n",
    "Y2012 =df_final.loc[2012]\n",
    "Y2012 = Y2012.dropna()\n",
    "Y2013 =df_final.loc[2013]\n",
    "Y2013 = Y2013.dropna()\n",
    "Y2014 =df_final.loc[2014]\n",
    "Y2014 = Y2014.dropna()\n",
    "Y2015 =df_final.loc[2015]\n",
    "Y2015 = Y2015.dropna()"
   ]
  },
  {
   "cell_type": "code",
   "execution_count": 183,
   "metadata": {},
   "outputs": [],
   "source": [
    "rent_10 = stats.pearsonr(Y2010['Income'], Y2010['Rent'])\n",
    "price_10 = stats.pearsonr(Y2010['Income'], Y2010['House Price'])\n",
    "rent_11 = stats.pearsonr(Y2011['Income'], Y2011['Rent'])\n",
    "price_11 = stats.pearsonr(Y2011['Income'], Y2011['House Price'])\n",
    "rent_12 = stats.pearsonr(Y2012['Income'], Y2012['Rent'])\n",
    "price_12 = stats.pearsonr(Y2012['Income'], Y2012['House Price'])\n",
    "rent_13 = stats.pearsonr(Y2013['Income'], Y2013['Rent'])\n",
    "price_13 = stats.pearsonr(Y2013['Income'], Y2013['House Price'])\n",
    "rent_14 = stats.pearsonr(Y2014['Income'], Y2014['Rent'])\n",
    "price_14 = stats.pearsonr(Y2014['Income'], Y2014['House Price'])\n",
    "rent_15 = stats.pearsonr(Y2015['Income'], Y2015['Rent'])\n",
    "price_15 = stats.pearsonr(Y2015['Income'], Y2015['House Price'])"
   ]
  },
  {
   "cell_type": "code",
   "execution_count": 184,
   "metadata": {},
   "outputs": [
    {
     "data": {
      "text/plain": [
       "(0.71555196431565393, 0.0008413058896690899)"
      ]
     },
     "execution_count": 184,
     "metadata": {},
     "output_type": "execute_result"
    }
   ],
   "source": [
    "rent_10"
   ]
  },
  {
   "cell_type": "code",
   "execution_count": 185,
   "metadata": {},
   "outputs": [
    {
     "data": {
      "text/plain": [
       "(0.25243318310485563, 0.3122149918088124)"
      ]
     },
     "execution_count": 185,
     "metadata": {},
     "output_type": "execute_result"
    }
   ],
   "source": [
    "price_10"
   ]
  },
  {
   "cell_type": "code",
   "execution_count": 186,
   "metadata": {},
   "outputs": [
    {
     "data": {
      "text/plain": [
       "(0.68316623413090405, 0.0017774195869472195)"
      ]
     },
     "execution_count": 186,
     "metadata": {},
     "output_type": "execute_result"
    }
   ],
   "source": [
    "rent_11"
   ]
  },
  {
   "cell_type": "code",
   "execution_count": 187,
   "metadata": {},
   "outputs": [
    {
     "data": {
      "text/plain": [
       "(0.29124347081966639, 0.24096810451295073)"
      ]
     },
     "execution_count": 187,
     "metadata": {},
     "output_type": "execute_result"
    }
   ],
   "source": [
    "price_11"
   ]
  },
  {
   "cell_type": "code",
   "execution_count": 188,
   "metadata": {},
   "outputs": [
    {
     "data": {
      "text/plain": [
       "(0.61064561610687107, 0.0042392469369925767)"
      ]
     },
     "execution_count": 188,
     "metadata": {},
     "output_type": "execute_result"
    }
   ],
   "source": [
    "rent_12"
   ]
  },
  {
   "cell_type": "code",
   "execution_count": 189,
   "metadata": {},
   "outputs": [
    {
     "data": {
      "text/plain": [
       "(0.24604532124005499, 0.29570774311032311)"
      ]
     },
     "execution_count": 189,
     "metadata": {},
     "output_type": "execute_result"
    }
   ],
   "source": [
    "price_12"
   ]
  },
  {
   "cell_type": "code",
   "execution_count": 190,
   "metadata": {},
   "outputs": [
    {
     "data": {
      "text/plain": [
       "(0.58602673665034133, 0.0066211235275599077)"
      ]
     },
     "execution_count": 190,
     "metadata": {},
     "output_type": "execute_result"
    }
   ],
   "source": [
    "rent_13"
   ]
  },
  {
   "cell_type": "code",
   "execution_count": 191,
   "metadata": {},
   "outputs": [
    {
     "data": {
      "text/plain": [
       "(0.43928896360349579, 0.052635759874550367)"
      ]
     },
     "execution_count": 191,
     "metadata": {},
     "output_type": "execute_result"
    }
   ],
   "source": [
    "price_13"
   ]
  },
  {
   "cell_type": "code",
   "execution_count": 192,
   "metadata": {},
   "outputs": [
    {
     "data": {
      "text/plain": [
       "(0.63192237792811179, 0.0021187449141878696)"
      ]
     },
     "execution_count": 192,
     "metadata": {},
     "output_type": "execute_result"
    }
   ],
   "source": [
    "rent_14"
   ]
  },
  {
   "cell_type": "code",
   "execution_count": 193,
   "metadata": {},
   "outputs": [
    {
     "data": {
      "text/plain": [
       "(0.56642006153354618, 0.0074289153536602386)"
      ]
     },
     "execution_count": 193,
     "metadata": {},
     "output_type": "execute_result"
    }
   ],
   "source": [
    "price_14"
   ]
  },
  {
   "cell_type": "code",
   "execution_count": 194,
   "metadata": {},
   "outputs": [
    {
     "data": {
      "text/plain": [
       "(0.65817511882843005, 0.0011806673205400225)"
      ]
     },
     "execution_count": 194,
     "metadata": {},
     "output_type": "execute_result"
    }
   ],
   "source": [
    "rent_15"
   ]
  },
  {
   "cell_type": "code",
   "execution_count": 195,
   "metadata": {},
   "outputs": [
    {
     "data": {
      "text/plain": [
       "(0.57736059740904788, 0.0061323494109212775)"
      ]
     },
     "execution_count": 195,
     "metadata": {},
     "output_type": "execute_result"
    }
   ],
   "source": [
    "price_15"
   ]
  },
  {
   "cell_type": "code",
   "execution_count": null,
   "metadata": {
    "collapsed": true
   },
   "outputs": [],
   "source": []
  }
 ],
 "metadata": {
  "kernelspec": {
   "display_name": "Python 3",
   "language": "python",
   "name": "python3"
  },
  "language_info": {
   "codemirror_mode": {
    "name": "ipython",
    "version": 3
   },
   "file_extension": ".py",
   "mimetype": "text/x-python",
   "name": "python",
   "nbconvert_exporter": "python",
   "pygments_lexer": "ipython3",
   "version": "3.6.2"
  }
 },
 "nbformat": 4,
 "nbformat_minor": 2
}
