{
 "cells": [
  {
   "cell_type": "code",
   "execution_count": 1,
   "metadata": {
    "collapsed": true
   },
   "outputs": [],
   "source": [
    "# Dependencies\n",
    "import matplotlib.pyplot as plt\n",
    "import numpy as np\n",
    "import pandas as pd\n",
    "import os\n",
    "import locale\n",
    "from locale import atof"
   ]
  },
  {
   "cell_type": "code",
   "execution_count": 2,
   "metadata": {
    "collapsed": true
   },
   "outputs": [],
   "source": [
    "# Load in csv\n",
    "filepath = os.path.join(\"CSV Files\\Zillow CSV\\Price.csv\")\n",
    "price_df = pd.read_csv(filepath)\n",
    "filepath = os.path.join(\"CSV Files\\Zillow CSV\\Rent.csv\")\n",
    "rent_df = pd.read_csv(filepath)"
   ]
  },
  {
   "cell_type": "code",
   "execution_count": 28,
   "metadata": {},
   "outputs": [
    {
     "data": {
      "text/html": [
       "<div>\n",
       "<style>\n",
       "    .dataframe thead tr:only-child th {\n",
       "        text-align: right;\n",
       "    }\n",
       "\n",
       "    .dataframe thead th {\n",
       "        text-align: left;\n",
       "    }\n",
       "\n",
       "    .dataframe tbody tr th {\n",
       "        vertical-align: top;\n",
       "    }\n",
       "</style>\n",
       "<table border=\"1\" class=\"dataframe\">\n",
       "  <thead>\n",
       "    <tr style=\"text-align: right;\">\n",
       "      <th></th>\n",
       "      <th>Year</th>\n",
       "      <th>Month</th>\n",
       "      <th>City</th>\n",
       "      <th>Rent</th>\n",
       "      <th>House Price</th>\n",
       "    </tr>\n",
       "  </thead>\n",
       "  <tbody>\n",
       "    <tr>\n",
       "      <th>0</th>\n",
       "      <td>2010</td>\n",
       "      <td>11</td>\n",
       "      <td>Dallas</td>\n",
       "      <td>1295.0</td>\n",
       "      <td>165000.0</td>\n",
       "    </tr>\n",
       "    <tr>\n",
       "      <th>1</th>\n",
       "      <td>2010</td>\n",
       "      <td>12</td>\n",
       "      <td>Dallas</td>\n",
       "      <td>1299.0</td>\n",
       "      <td>159900.0</td>\n",
       "    </tr>\n",
       "    <tr>\n",
       "      <th>2</th>\n",
       "      <td>2011</td>\n",
       "      <td>01</td>\n",
       "      <td>Dallas</td>\n",
       "      <td>1303.0</td>\n",
       "      <td>159000.0</td>\n",
       "    </tr>\n",
       "    <tr>\n",
       "      <th>3</th>\n",
       "      <td>2011</td>\n",
       "      <td>02</td>\n",
       "      <td>Dallas</td>\n",
       "      <td>1307.0</td>\n",
       "      <td>159000.0</td>\n",
       "    </tr>\n",
       "    <tr>\n",
       "      <th>4</th>\n",
       "      <td>2011</td>\n",
       "      <td>03</td>\n",
       "      <td>Dallas</td>\n",
       "      <td>1308.0</td>\n",
       "      <td>162990.0</td>\n",
       "    </tr>\n",
       "  </tbody>\n",
       "</table>\n",
       "</div>"
      ],
      "text/plain": [
       "   Year Month    City    Rent  House Price\n",
       "0  2010    11  Dallas  1295.0     165000.0\n",
       "1  2010    12  Dallas  1299.0     159900.0\n",
       "2  2011    01  Dallas  1303.0     159000.0\n",
       "3  2011    02  Dallas  1307.0     159000.0\n",
       "4  2011    03  Dallas  1308.0     162990.0"
      ]
     },
     "execution_count": 28,
     "metadata": {},
     "output_type": "execute_result"
    }
   ],
   "source": [
    "# Convert Region Name into Seperate City and State Columns\n",
    "rent_df['City'],rent_df['State'] = rent_df[\"RegionName\"].str.split(',', 2).str[0:2].str\n",
    "rent_df['State'].replace(' TX','TX', inplace=True)\n",
    "price_df['City'],price_df['State'] = price_df[\"RegionName\"].str.split(',', 2).str[0:2].str\n",
    "price_df['State'].replace(' TX','TX', inplace=True)\n",
    "\n",
    "# Extract only the Texas Data\n",
    "rent_tx_df = rent_df.loc[rent_df[\"State\"] == \"TX\", :]\n",
    "rent_tx_df = rent_tx_df.set_index('City')\n",
    "price_tx_df = price_df.loc[price_df[\"State\"] == \"TX\", :]\n",
    "price_tx_df = price_tx_df.set_index('City')\n",
    "\n",
    "# Remove Undesired Columns\n",
    "rent_tx_df = rent_tx_df.drop(rent_tx_df.columns[[0,1,2,-1]], axis=1)\n",
    "price_tx_df = price_tx_df.drop(price_tx_df.columns[[0,1,-1]], axis=1)\n",
    "\n",
    "# Transpose Data Frame\n",
    "rent = rent_tx_df.transpose()\n",
    "price = price_tx_df.transpose()\n",
    "\n",
    "#Move the Index\n",
    "rent.reset_index(level=0, inplace=True)\n",
    "rent = rent.rename(columns = {'index':'Date'})\n",
    "rent = rent.reset_index(drop=True)\n",
    "price.reset_index(level=0, inplace=True)\n",
    "price = price.rename(columns = {'index':'Date'})\n",
    "price = price.reset_index(drop=True)\n",
    "\n",
    "# Convert the Date into a Month and Year Column\n",
    "rent['Year'],rent['Month'] = rent[\"Date\"].str.split('-', 2).str[0:2].str\n",
    "rent = rent.drop(rent.columns[[0]], axis=1)\n",
    "price['Year'],price['Month'] = price[\"Date\"].str.split('-', 2).str[0:2].str\n",
    "price = price.drop(price.columns[[0]], axis=1)\n",
    "\n",
    "# Melt Data Frames and Restructure and Merge\n",
    "rent_melt = pd.melt(rent, id_vars=[\"Year\", \"Month\"])\n",
    "rent_melt = rent_melt.rename(columns={'value': 'Rent'})\n",
    "rent_melt = rent_melt.replace('Dallas-Fort Worth', 'Dallas')\n",
    "price_melt = pd.melt(price, id_vars=[\"Year\", \"Month\"])\n",
    "price_melt = price_melt.rename(columns={'value': 'House Price'})\n",
    "merge_melts = pd.merge(rent_melt,price_melt, how='outer', on=['Year','Month','City'])\n",
    "merge_melts.head()"
   ]
  }
 ],
 "metadata": {
  "kernelspec": {
   "display_name": "Python 3",
   "language": "python",
   "name": "python3"
  },
  "language_info": {
   "codemirror_mode": {
    "name": "ipython",
    "version": 3
   },
   "file_extension": ".py",
   "mimetype": "text/x-python",
   "name": "python",
   "nbconvert_exporter": "python",
   "pygments_lexer": "ipython3",
   "version": "3.6.2"
  }
 },
 "nbformat": 4,
 "nbformat_minor": 2
}
