{
 "cells": [
  {
   "cell_type": "code",
   "execution_count": 1,
   "metadata": {
    "collapsed": true
   },
   "outputs": [],
   "source": [
    "# Dependencies\n",
    "import matplotlib.pyplot as plt\n",
    "import numpy as np\n",
    "import pandas as pd\n",
    "import os\n",
    "import locale\n",
    "from locale import atof"
   ]
  },
  {
   "cell_type": "code",
   "execution_count": 2,
   "metadata": {
    "collapsed": true
   },
   "outputs": [],
   "source": [
    "# Load in csv\n",
    "filepath = os.path.join(\"Employment.csv\")\n",
    "employment_numbers_df = pd.read_csv(filepath)\n",
    "filepath = os.path.join(\"Unemployment_numbers.csv\")\n",
    "unemployment_numbers_df = pd.read_csv(filepath)\n",
    "filepath = os.path.join(\"Unemployment_rate.csv\")\n",
    "unemployment_rate_df = pd.read_csv(filepath)\n",
    "filepath = os.path.join(\"Laborforce.csv\")\n",
    "laborforce_df = pd.read_csv(filepath)\n",
    "filepath = os.path.join(\"Income.csv\")\n",
    "income_df = pd.read_csv(filepath)\n",
    "filepath = os.path.join(\"Population.csv\")\n",
    "population_df = pd.read_csv(filepath)"
   ]
  },
  {
   "cell_type": "code",
   "execution_count": 4,
   "metadata": {},
   "outputs": [],
   "source": [
    "# Merge the monthly CSVs\n",
    "merge_df = pd.merge(employment_numbers_df, unemployment_numbers_df, how=\"outer\", on=[\"Year\", \"Period ID\", \"Period\", \"Area\"])\n",
    "merge_df2 = pd.merge(merge_df, unemployment_rate_df, how=\"outer\", on=[\"Year\", \"Period ID\", \"Period\", \"Area\"])\n",
    "merge_df3 = pd.merge(merge_df2, laborforce_df, how=\"outer\", on=[\"Year\", \"Period ID\", \"Period\", \"Area\"])"
   ]
  },
  {
   "cell_type": "code",
   "execution_count": 5,
   "metadata": {
    "collapsed": true
   },
   "outputs": [],
   "source": [
    "# Select desired columns \n",
    "merge_df = merge_df3.drop(merge_df3.columns[[2,4,6,8,10]], axis=1)"
   ]
  },
  {
   "cell_type": "code",
   "execution_count": 6,
   "metadata": {
    "collapsed": true
   },
   "outputs": [],
   "source": [
    "# Change column name of Area to City\n",
    "merge_df=merge_df.rename(columns = {'Area':'City', 'Period ID': 'Month'})"
   ]
  },
  {
   "cell_type": "code",
   "execution_count": 7,
   "metadata": {
    "collapsed": true
   },
   "outputs": [],
   "source": [
    "# Slice out MSA out of the City Names\n",
    "merge_df[\"City\"] = merge_df[\"City\"].replace(' MSA','',regex=True)\n",
    "merge_df = merge_df"
   ]
  },
  {
   "cell_type": "code",
   "execution_count": 8,
   "metadata": {
    "collapsed": true
   },
   "outputs": [],
   "source": [
    "# Convert Strings to Floats\n",
    "merge_df[\"Employment\"] = merge_df[\"Employment\"].replace(',','',regex=True).astype('float')\n",
    "merge_df[\"Unemployment\"] = merge_df[\"Unemployment\"].replace(',','',regex=True).astype('float')\n",
    "merge_df[\"Labor Force\"] = merge_df[\"Labor Force\"].replace(',','',regex=True).astype('float')"
   ]
  },
  {
   "cell_type": "code",
   "execution_count": 9,
   "metadata": {},
   "outputs": [
    {
     "data": {
      "text/html": [
       "<div>\n",
       "<style>\n",
       "    .dataframe thead tr:only-child th {\n",
       "        text-align: right;\n",
       "    }\n",
       "\n",
       "    .dataframe thead th {\n",
       "        text-align: left;\n",
       "    }\n",
       "\n",
       "    .dataframe tbody tr th {\n",
       "        vertical-align: top;\n",
       "    }\n",
       "</style>\n",
       "<table border=\"1\" class=\"dataframe\">\n",
       "  <thead>\n",
       "    <tr style=\"text-align: right;\">\n",
       "      <th></th>\n",
       "      <th></th>\n",
       "      <th>Month</th>\n",
       "      <th>Employment</th>\n",
       "      <th>Unemployment</th>\n",
       "      <th>Unemployment Rate</th>\n",
       "      <th>Labor Force</th>\n",
       "    </tr>\n",
       "    <tr>\n",
       "      <th>City</th>\n",
       "      <th>Year</th>\n",
       "      <th></th>\n",
       "      <th></th>\n",
       "      <th></th>\n",
       "      <th></th>\n",
       "      <th></th>\n",
       "    </tr>\n",
       "  </thead>\n",
       "  <tbody>\n",
       "    <tr>\n",
       "      <th rowspan=\"5\" valign=\"top\">Abilene</th>\n",
       "      <th>1990</th>\n",
       "      <td>6.5</td>\n",
       "      <td>64531.416667</td>\n",
       "      <td>4052.750000</td>\n",
       "      <td>5.916667</td>\n",
       "      <td>68584.166667</td>\n",
       "    </tr>\n",
       "    <tr>\n",
       "      <th>1991</th>\n",
       "      <td>6.5</td>\n",
       "      <td>65709.333333</td>\n",
       "      <td>3668.083333</td>\n",
       "      <td>5.283333</td>\n",
       "      <td>69377.416667</td>\n",
       "    </tr>\n",
       "    <tr>\n",
       "      <th>1992</th>\n",
       "      <td>6.5</td>\n",
       "      <td>67167.250000</td>\n",
       "      <td>3907.083333</td>\n",
       "      <td>5.491667</td>\n",
       "      <td>71074.333333</td>\n",
       "    </tr>\n",
       "    <tr>\n",
       "      <th>1993</th>\n",
       "      <td>6.5</td>\n",
       "      <td>68869.916667</td>\n",
       "      <td>3901.083333</td>\n",
       "      <td>5.350000</td>\n",
       "      <td>72771.000000</td>\n",
       "    </tr>\n",
       "    <tr>\n",
       "      <th>1994</th>\n",
       "      <td>6.5</td>\n",
       "      <td>70369.500000</td>\n",
       "      <td>3630.000000</td>\n",
       "      <td>4.908333</td>\n",
       "      <td>73999.500000</td>\n",
       "    </tr>\n",
       "  </tbody>\n",
       "</table>\n",
       "</div>"
      ],
      "text/plain": [
       "              Month    Employment  Unemployment  Unemployment Rate  \\\n",
       "City    Year                                                         \n",
       "Abilene 1990    6.5  64531.416667   4052.750000           5.916667   \n",
       "        1991    6.5  65709.333333   3668.083333           5.283333   \n",
       "        1992    6.5  67167.250000   3907.083333           5.491667   \n",
       "        1993    6.5  68869.916667   3901.083333           5.350000   \n",
       "        1994    6.5  70369.500000   3630.000000           4.908333   \n",
       "\n",
       "               Labor Force  \n",
       "City    Year                \n",
       "Abilene 1990  68584.166667  \n",
       "        1991  69377.416667  \n",
       "        1992  71074.333333  \n",
       "        1993  72771.000000  \n",
       "        1994  73999.500000  "
      ]
     },
     "execution_count": 9,
     "metadata": {},
     "output_type": "execute_result"
    }
   ],
   "source": [
    "annual_df = merge_df.groupby(['City', 'Year']).mean()\n",
    "annual_df.head()"
   ]
  },
  {
   "cell_type": "code",
   "execution_count": 10,
   "metadata": {
    "collapsed": true
   },
   "outputs": [],
   "source": [
    "# Clean up Income data to merge to annual data frame\n",
    "# Select desired columns \n",
    "income_df = income_df.drop(income_df.columns[[1,3,4]], axis=1)"
   ]
  },
  {
   "cell_type": "code",
   "execution_count": 11,
   "metadata": {
    "collapsed": true
   },
   "outputs": [],
   "source": [
    "# Change column name of Area to City\n",
    "income_df = income_df.rename(columns = {'Area':'City'})"
   ]
  },
  {
   "cell_type": "code",
   "execution_count": 12,
   "metadata": {},
   "outputs": [
    {
     "data": {
      "text/html": [
       "<div>\n",
       "<style>\n",
       "    .dataframe thead tr:only-child th {\n",
       "        text-align: right;\n",
       "    }\n",
       "\n",
       "    .dataframe thead th {\n",
       "        text-align: left;\n",
       "    }\n",
       "\n",
       "    .dataframe tbody tr th {\n",
       "        vertical-align: top;\n",
       "    }\n",
       "</style>\n",
       "<table border=\"1\" class=\"dataframe\">\n",
       "  <thead>\n",
       "    <tr style=\"text-align: right;\">\n",
       "      <th></th>\n",
       "      <th>Year</th>\n",
       "      <th>City</th>\n",
       "      <th>Income</th>\n",
       "    </tr>\n",
       "  </thead>\n",
       "  <tbody>\n",
       "    <tr>\n",
       "      <th>0</th>\n",
       "      <td>2015</td>\n",
       "      <td>Abilene</td>\n",
       "      <td>$41,732</td>\n",
       "    </tr>\n",
       "    <tr>\n",
       "      <th>1</th>\n",
       "      <td>2014</td>\n",
       "      <td>Abilene</td>\n",
       "      <td>$41,330</td>\n",
       "    </tr>\n",
       "    <tr>\n",
       "      <th>2</th>\n",
       "      <td>2013</td>\n",
       "      <td>Abilene</td>\n",
       "      <td>$38,831</td>\n",
       "    </tr>\n",
       "    <tr>\n",
       "      <th>3</th>\n",
       "      <td>2012</td>\n",
       "      <td>Abilene</td>\n",
       "      <td>$37,769</td>\n",
       "    </tr>\n",
       "    <tr>\n",
       "      <th>4</th>\n",
       "      <td>2011</td>\n",
       "      <td>Abilene</td>\n",
       "      <td>$36,013</td>\n",
       "    </tr>\n",
       "  </tbody>\n",
       "</table>\n",
       "</div>"
      ],
      "text/plain": [
       "   Year     City   Income\n",
       "0  2015  Abilene  $41,732\n",
       "1  2014  Abilene  $41,330\n",
       "2  2013  Abilene  $38,831\n",
       "3  2012  Abilene  $37,769\n",
       "4  2011  Abilene  $36,013"
      ]
     },
     "execution_count": 12,
     "metadata": {},
     "output_type": "execute_result"
    }
   ],
   "source": [
    "# Slice out MSA out of the City Names\n",
    "income_df[\"City\"] = income_df[\"City\"].replace(' MSA','',regex=True)\n",
    "income_df.head()"
   ]
  },
  {
   "cell_type": "code",
   "execution_count": 13,
   "metadata": {
    "collapsed": true
   },
   "outputs": [],
   "source": [
    "# Convert Strings to Floats\n",
    "income_df[\"Income\"] = income_df[\"Income\"].replace(',','',regex=True)\n",
    "\n",
    "income = []\n",
    "for x in income_df[\"Income\"]:\n",
    "    x = x[1:]\n",
    "    x = int(x)\n",
    "    income.append(x)\n",
    "\n",
    "income_df[\"Income\"] = income"
   ]
  },
  {
   "cell_type": "code",
   "execution_count": 18,
   "metadata": {},
   "outputs": [
    {
     "data": {
      "text/html": [
       "<div>\n",
       "<style>\n",
       "    .dataframe thead tr:only-child th {\n",
       "        text-align: right;\n",
       "    }\n",
       "\n",
       "    .dataframe thead th {\n",
       "        text-align: left;\n",
       "    }\n",
       "\n",
       "    .dataframe tbody tr th {\n",
       "        vertical-align: top;\n",
       "    }\n",
       "</style>\n",
       "<table border=\"1\" class=\"dataframe\">\n",
       "  <thead>\n",
       "    <tr style=\"text-align: right;\">\n",
       "      <th></th>\n",
       "      <th></th>\n",
       "      <th>Employment</th>\n",
       "      <th>Unemployment</th>\n",
       "      <th>Unemployment Rate</th>\n",
       "      <th>Labor Force</th>\n",
       "      <th>Income</th>\n",
       "    </tr>\n",
       "    <tr>\n",
       "      <th>City</th>\n",
       "      <th>Year</th>\n",
       "      <th></th>\n",
       "      <th></th>\n",
       "      <th></th>\n",
       "      <th></th>\n",
       "      <th></th>\n",
       "    </tr>\n",
       "  </thead>\n",
       "  <tbody>\n",
       "    <tr>\n",
       "      <th rowspan=\"5\" valign=\"top\">Abilene</th>\n",
       "      <th>1990</th>\n",
       "      <td>64531.416667</td>\n",
       "      <td>4052.750000</td>\n",
       "      <td>5.916667</td>\n",
       "      <td>68584.166667</td>\n",
       "      <td>NaN</td>\n",
       "    </tr>\n",
       "    <tr>\n",
       "      <th>1991</th>\n",
       "      <td>65709.333333</td>\n",
       "      <td>3668.083333</td>\n",
       "      <td>5.283333</td>\n",
       "      <td>69377.416667</td>\n",
       "      <td>NaN</td>\n",
       "    </tr>\n",
       "    <tr>\n",
       "      <th>1992</th>\n",
       "      <td>67167.250000</td>\n",
       "      <td>3907.083333</td>\n",
       "      <td>5.491667</td>\n",
       "      <td>71074.333333</td>\n",
       "      <td>NaN</td>\n",
       "    </tr>\n",
       "    <tr>\n",
       "      <th>1993</th>\n",
       "      <td>68869.916667</td>\n",
       "      <td>3901.083333</td>\n",
       "      <td>5.350000</td>\n",
       "      <td>72771.000000</td>\n",
       "      <td>NaN</td>\n",
       "    </tr>\n",
       "    <tr>\n",
       "      <th>1994</th>\n",
       "      <td>70369.500000</td>\n",
       "      <td>3630.000000</td>\n",
       "      <td>4.908333</td>\n",
       "      <td>73999.500000</td>\n",
       "      <td>NaN</td>\n",
       "    </tr>\n",
       "  </tbody>\n",
       "</table>\n",
       "</div>"
      ],
      "text/plain": [
       "                Employment  Unemployment  Unemployment Rate   Labor Force  \\\n",
       "City    Year                                                                \n",
       "Abilene 1990  64531.416667   4052.750000           5.916667  68584.166667   \n",
       "        1991  65709.333333   3668.083333           5.283333  69377.416667   \n",
       "        1992  67167.250000   3907.083333           5.491667  71074.333333   \n",
       "        1993  68869.916667   3901.083333           5.350000  72771.000000   \n",
       "        1994  70369.500000   3630.000000           4.908333  73999.500000   \n",
       "\n",
       "              Income  \n",
       "City    Year          \n",
       "Abilene 1990     NaN  \n",
       "        1991     NaN  \n",
       "        1992     NaN  \n",
       "        1993     NaN  \n",
       "        1994     NaN  "
      ]
     },
     "execution_count": 18,
     "metadata": {},
     "output_type": "execute_result"
    }
   ],
   "source": [
    "# Merge Income Data Frame to the Main Data Frame\n",
    "twfc_final = pd.merge(merge_df, income_df, how=\"outer\", on=[\"City\", \"Year\"])\n",
    "#twfc_final[\"City\"].unique()\n",
    "twfc_final = twfc_final.groupby(['City', 'Year']).mean()\n",
    "twfc_final = twfc_final.drop(twfc_final.columns[[0]], axis=1)\n",
    "twfc_final.head()"
   ]
  },
  {
   "cell_type": "code",
   "execution_count": 17,
   "metadata": {},
   "outputs": [],
   "source": [
    "# Export Final Data Frame CSV\n",
    "#twfc_final.to_csv('TWFC_Data.csv')\n"
   ]
  },
  {
   "cell_type": "code",
   "execution_count": null,
   "metadata": {
    "collapsed": true
   },
   "outputs": [],
   "source": []
  }
 ],
 "metadata": {
  "kernelspec": {
   "display_name": "Python 3",
   "language": "python",
   "name": "python3"
  },
  "language_info": {
   "codemirror_mode": {
    "name": "ipython",
    "version": 3
   },
   "file_extension": ".py",
   "mimetype": "text/x-python",
   "name": "python",
   "nbconvert_exporter": "python",
   "pygments_lexer": "ipython3",
   "version": "3.6.2"
  }
 },
 "nbformat": 4,
 "nbformat_minor": 2
}
